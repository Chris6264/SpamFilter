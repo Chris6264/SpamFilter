{
 "cells": [
  {
   "cell_type": "markdown",
   "id": "804769e1-a5ea-42bf-9a39-9e0cc8762025",
   "metadata": {},
   "source": [
    "# SPAM FILTER Con Machine Learning"
   ]
  },
  {
   "cell_type": "markdown",
   "id": "4c913b1a-6684-42d9-b2ff-dbbe06d023d4",
   "metadata": {},
   "source": [
    "## Explicación y Ejecución\n",
    "\n",
    "## Integrantes:\n",
    "\n",
    "### Chaparro Castillo Christopher\n",
    "\n",
    "### Peñuelas López Luis Antonio "
   ]
  },
  {
   "cell_type": "markdown",
   "id": "b084067e-47eb-4897-aa16-aab5c6e453a1",
   "metadata": {},
   "source": [
    "## ¿Como Funciona?"
   ]
  },
  {
   "cell_type": "markdown",
   "id": "f079b0f6-45e8-4061-9218-24866369946a",
   "metadata": {},
   "source": [
    "## Importando dependencias"
   ]
  },
  {
   "cell_type": "code",
   "execution_count": null,
   "id": "4d5bdb16-3ccd-4127-8569-7d8d04529554",
   "metadata": {},
   "outputs": [],
   "source": [
    "import numpy as np\n",
    "import pandas as pd\n",
    "from sklearn.model_selection import train_test_split\n",
    "from sklearn.feature_extraction.text import TfidfVectorizer\n",
    "from sklearn.linear_model import LogisticRegression\n",
    "from sklearn.metrics import accuracy_score"
   ]
  },
  {
   "cell_type": "markdown",
   "id": "e69f2f6a-fc58-49a4-a357-5ffcc2f702aa",
   "metadata": {},
   "source": [
    "## Colección de datos y preprocesamiento"
   ]
  },
  {
   "cell_type": "code",
   "execution_count": null,
   "id": "b032e66b-5418-4567-b20b-299126daf461",
   "metadata": {},
   "outputs": [],
   "source": [
    "# Cargando el dataset csv a los dataframes de pandas\n",
    "raw_mail_data = pd.read_csv('Datasets/SpamEN.csv')"
   ]
  },
  {
   "cell_type": "code",
   "execution_count": null,
   "id": "dadf8418-270e-4f36-acaa-cc6cd28ebbab",
   "metadata": {},
   "outputs": [],
   "source": [
    "print(raw_mail_data)"
   ]
  },
  {
   "cell_type": "code",
   "execution_count": null,
   "id": "aa0c86f1-1c72-49fd-bcde-45fa1abe1266",
   "metadata": {},
   "outputs": [],
   "source": [
    "# Reemplaza los valores vacios con una cadena vacia\n",
    "mail_data = raw_mail_data.where((pd.notnull(raw_mail_data)),'')"
   ]
  },
  {
   "cell_type": "code",
   "execution_count": null,
   "id": "f146c46f-55ed-4418-aaa5-c13d7f6eb52f",
   "metadata": {},
   "outputs": [],
   "source": [
    "# Imprimiendo las primeras 5 filas del dataframe \n",
    "mail_data.head()"
   ]
  },
  {
   "cell_type": "code",
   "execution_count": null,
   "id": "a207d0c2-a52f-4e49-b6b7-d85274d1fced",
   "metadata": {},
   "outputs": [],
   "source": [
    "# Revisando el tamaño en filas y columnas de nuestro dataframe\n",
    "mail_data.shape"
   ]
  },
  {
   "cell_type": "markdown",
   "id": "d5798750-38dd-43e4-acb6-ef20df2d0b1a",
   "metadata": {},
   "source": [
    "## Codificación de etiquetas"
   ]
  },
  {
   "cell_type": "code",
   "execution_count": null,
   "id": "b71eb033-0f1e-4953-bb0c-bca20c9b47ec",
   "metadata": {},
   "outputs": [],
   "source": [
    "# La etiqueta spam sera 1 y la no spam sera 0\n",
    "mail_data.loc[mail_data['Category'] == 'ham', 'Category'] = 0\n",
    "mail_data.loc[mail_data['Category'] == 'spam', 'Category'] = 1"
   ]
  },
  {
   "cell_type": "markdown",
   "id": "01e3fc9a-81b8-460c-9fb4-191205274cb1",
   "metadata": {},
   "source": [
    "Los valores que contengan 'ham' en nuestro dataframe serán reemplazados por 0\n",
    "y Los valores que contengan 'spam' en nuestro dataframe serán reemplazados por 1"
   ]
  },
  {
   "cell_type": "code",
   "execution_count": null,
   "id": "59fc66fd-c84e-4069-8b60-7b1c3dbb0c4c",
   "metadata": {},
   "outputs": [],
   "source": [
    "# Separando los datos en 'X' mensajes (Input) y 'Y' eiquetas (Targets/Outputs)\n",
    "X = mail_data['Message']\n",
    "Y = mail_data['Category']"
   ]
  },
  {
   "cell_type": "code",
   "execution_count": null,
   "id": "36feba66-d65f-405d-b7fa-704509b23f86",
   "metadata": {},
   "outputs": [],
   "source": [
    "print(X)"
   ]
  },
  {
   "cell_type": "code",
   "execution_count": null,
   "id": "5f7bd93a-5aa7-4a5c-9ef9-9d914347429f",
   "metadata": {},
   "outputs": [],
   "source": [
    "print(Y)"
   ]
  },
  {
   "cell_type": "markdown",
   "id": "bf657a28-ca4c-4cd3-8ef5-9757804f4204",
   "metadata": {},
   "source": [
    "## Dividiendo los datos en datos de entrenamiento y datos de testeo"
   ]
  },
  {
   "cell_type": "code",
   "execution_count": null,
   "id": "afb87312-a65d-4d25-9687-af8d127a1672",
   "metadata": {},
   "outputs": [],
   "source": [
    "X_train, X_test, Y_train, Y_test = train_test_split(X , Y, test_size= 0.3, random_state= 3)"
   ]
  },
  {
   "cell_type": "markdown",
   "id": "261b7666-0261-46dc-9e6f-0656a08f0696",
   "metadata": {},
   "source": [
    "En este caso dividimos X, Y en 70% entrenamiento y 30% en testeo"
   ]
  },
  {
   "cell_type": "code",
   "execution_count": null,
   "id": "f7e01881-0bbd-47dc-ba0c-d1903551980c",
   "metadata": {},
   "outputs": [],
   "source": [
    "print(X.shape)\n",
    "print(X_train.shape)\n",
    "print(X_test.shape)"
   ]
  },
  {
   "cell_type": "markdown",
   "id": "2a1ec0f9-58db-44a6-adf2-1b94128849f6",
   "metadata": {},
   "source": [
    "## Extracción de características"
   ]
  },
  {
   "cell_type": "code",
   "execution_count": null,
   "id": "0ec78212-4d84-4198-8aec-da98eddcc7cd",
   "metadata": {},
   "outputs": [],
   "source": [
    "# Transformar los mensajes (X) en vectores numéricos que puedan ser usados por la regresión logística\n",
    "feature_extraction = TfidfVectorizer(min_df = 1, stop_words= 'english', lowercase= True)\n",
    "\n",
    "X_train_features = feature_extraction.fit_transform(X_train)\n",
    "X_test_features = feature_extraction.transform(X_test)\n",
    "\n",
    "# Convertir Y_train y Y_test en valores enteros\n",
    "Y_train = Y_train.astype('int')\n",
    "Y_test = Y_test.astype('int')"
   ]
  },
  {
   "cell_type": "code",
   "execution_count": null,
   "id": "96ddeca5-430c-42d4-9c6c-f8694009c2c2",
   "metadata": {},
   "outputs": [],
   "source": [
    "print(X_train_features)"
   ]
  }
 ],
 "metadata": {
  "kernelspec": {
   "display_name": "Python [conda env:base] *",
   "language": "python",
   "name": "conda-base-py"
  },
  "language_info": {
   "codemirror_mode": {
    "name": "ipython",
    "version": 3
   },
   "file_extension": ".py",
   "mimetype": "text/x-python",
   "name": "python",
   "nbconvert_exporter": "python",
   "pygments_lexer": "ipython3",
   "version": "3.12.7"
  }
 },
 "nbformat": 4,
 "nbformat_minor": 5
}
